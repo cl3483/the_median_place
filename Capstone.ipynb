{
  "nbformat": 4,
  "nbformat_minor": 0,
  "metadata": {
    "colab": {
      "name": "Capstone",
      "provenance": [],
      "collapsed_sections": [],
      "include_colab_link": true
    },
    "kernelspec": {
      "name": "python3",
      "display_name": "Python 3"
    }
  },
  "cells": [
    {
      "cell_type": "markdown",
      "metadata": {
        "id": "view-in-github",
        "colab_type": "text"
      },
      "source": [
        "<a href=\"https://colab.research.google.com/github/cl3483/the_median_place/blob/master/Capstone.ipynb\" target=\"_parent\"><img src=\"https://colab.research.google.com/assets/colab-badge.svg\" alt=\"Open In Colab\"/></a>"
      ]
    },
    {
      "cell_type": "code",
      "metadata": {
        "id": "hIcwMqadDUpZ",
        "colab_type": "code",
        "colab": {
          "base_uri": "https://localhost:8080/",
          "height": 564
        },
        "outputId": "c7252e3d-ef0f-402c-a4f8-c37c6cc3ed20"
      },
      "source": [
        "pip install --upgrade google-cloud-bigquery"
      ],
      "execution_count": 2,
      "outputs": [
        {
          "output_type": "stream",
          "text": [
            "Collecting google-cloud-bigquery\n",
            "\u001b[?25l  Downloading https://files.pythonhosted.org/packages/89/1d/145b045a6bf8b3d1216f68b4ee55fe4932c24c2ee86c0dab971071dae6c5/google_cloud_bigquery-1.20.0-py2.py3-none-any.whl (154kB)\n",
            "\u001b[K     |████████████████████████████████| 163kB 4.9MB/s \n",
            "\u001b[?25hRequirement already satisfied, skipping upgrade: protobuf>=3.6.0 in /usr/local/lib/python3.6/dist-packages (from google-cloud-bigquery) (3.7.1)\n",
            "Requirement already satisfied, skipping upgrade: google-resumable-media>=0.3.1 in /usr/local/lib/python3.6/dist-packages (from google-cloud-bigquery) (0.4.1)\n",
            "Requirement already satisfied, skipping upgrade: google-cloud-core<2.0dev,>=1.0.3 in /usr/local/lib/python3.6/dist-packages (from google-cloud-bigquery) (1.0.3)\n",
            "Requirement already satisfied, skipping upgrade: setuptools in /usr/local/lib/python3.6/dist-packages (from protobuf>=3.6.0->google-cloud-bigquery) (41.2.0)\n",
            "Requirement already satisfied, skipping upgrade: six>=1.9 in /usr/local/lib/python3.6/dist-packages (from protobuf>=3.6.0->google-cloud-bigquery) (1.12.0)\n",
            "Requirement already satisfied, skipping upgrade: google-api-core<2.0.0dev,>=1.14.0 in /usr/local/lib/python3.6/dist-packages (from google-cloud-core<2.0dev,>=1.0.3->google-cloud-bigquery) (1.14.2)\n",
            "Requirement already satisfied, skipping upgrade: pytz in /usr/local/lib/python3.6/dist-packages (from google-api-core<2.0.0dev,>=1.14.0->google-cloud-core<2.0dev,>=1.0.3->google-cloud-bigquery) (2018.9)\n",
            "Requirement already satisfied, skipping upgrade: google-auth<2.0dev,>=0.4.0 in /usr/local/lib/python3.6/dist-packages (from google-api-core<2.0.0dev,>=1.14.0->google-cloud-core<2.0dev,>=1.0.3->google-cloud-bigquery) (1.4.2)\n",
            "Requirement already satisfied, skipping upgrade: googleapis-common-protos<2.0dev,>=1.6.0 in /usr/local/lib/python3.6/dist-packages (from google-api-core<2.0.0dev,>=1.14.0->google-cloud-core<2.0dev,>=1.0.3->google-cloud-bigquery) (1.6.0)\n",
            "Requirement already satisfied, skipping upgrade: requests<3.0.0dev,>=2.18.0 in /usr/local/lib/python3.6/dist-packages (from google-api-core<2.0.0dev,>=1.14.0->google-cloud-core<2.0dev,>=1.0.3->google-cloud-bigquery) (2.21.0)\n",
            "Requirement already satisfied, skipping upgrade: pyasn1-modules>=0.2.1 in /usr/local/lib/python3.6/dist-packages (from google-auth<2.0dev,>=0.4.0->google-api-core<2.0.0dev,>=1.14.0->google-cloud-core<2.0dev,>=1.0.3->google-cloud-bigquery) (0.2.6)\n",
            "Requirement already satisfied, skipping upgrade: rsa>=3.1.4 in /usr/local/lib/python3.6/dist-packages (from google-auth<2.0dev,>=0.4.0->google-api-core<2.0.0dev,>=1.14.0->google-cloud-core<2.0dev,>=1.0.3->google-cloud-bigquery) (4.0)\n",
            "Requirement already satisfied, skipping upgrade: cachetools>=2.0.0 in /usr/local/lib/python3.6/dist-packages (from google-auth<2.0dev,>=0.4.0->google-api-core<2.0.0dev,>=1.14.0->google-cloud-core<2.0dev,>=1.0.3->google-cloud-bigquery) (3.1.1)\n",
            "Requirement already satisfied, skipping upgrade: certifi>=2017.4.17 in /usr/local/lib/python3.6/dist-packages (from requests<3.0.0dev,>=2.18.0->google-api-core<2.0.0dev,>=1.14.0->google-cloud-core<2.0dev,>=1.0.3->google-cloud-bigquery) (2019.9.11)\n",
            "Requirement already satisfied, skipping upgrade: idna<2.9,>=2.5 in /usr/local/lib/python3.6/dist-packages (from requests<3.0.0dev,>=2.18.0->google-api-core<2.0.0dev,>=1.14.0->google-cloud-core<2.0dev,>=1.0.3->google-cloud-bigquery) (2.8)\n",
            "Requirement already satisfied, skipping upgrade: chardet<3.1.0,>=3.0.2 in /usr/local/lib/python3.6/dist-packages (from requests<3.0.0dev,>=2.18.0->google-api-core<2.0.0dev,>=1.14.0->google-cloud-core<2.0dev,>=1.0.3->google-cloud-bigquery) (3.0.4)\n",
            "Requirement already satisfied, skipping upgrade: urllib3<1.25,>=1.21.1 in /usr/local/lib/python3.6/dist-packages (from requests<3.0.0dev,>=2.18.0->google-api-core<2.0.0dev,>=1.14.0->google-cloud-core<2.0dev,>=1.0.3->google-cloud-bigquery) (1.24.3)\n",
            "Requirement already satisfied, skipping upgrade: pyasn1<0.5.0,>=0.4.6 in /usr/local/lib/python3.6/dist-packages (from pyasn1-modules>=0.2.1->google-auth<2.0dev,>=0.4.0->google-api-core<2.0.0dev,>=1.14.0->google-cloud-core<2.0dev,>=1.0.3->google-cloud-bigquery) (0.4.7)\n",
            "Installing collected packages: google-cloud-bigquery\n",
            "  Found existing installation: google-cloud-bigquery 1.14.1\n",
            "    Uninstalling google-cloud-bigquery-1.14.1:\n",
            "      Successfully uninstalled google-cloud-bigquery-1.14.1\n",
            "Successfully installed google-cloud-bigquery-1.20.0\n"
          ],
          "name": "stdout"
        },
        {
          "output_type": "display_data",
          "data": {
            "application/vnd.colab-display-data+json": {
              "pip_warning": {
                "packages": [
                  "google"
                ]
              }
            }
          },
          "metadata": {
            "tags": []
          }
        }
      ]
    },
    {
      "cell_type": "code",
      "metadata": {
        "id": "s7ASYtLADf6V",
        "colab_type": "code",
        "colab": {}
      },
      "source": [
        "from google.colab import auth\n",
        "auth.authenticate_user()"
      ],
      "execution_count": 0,
      "outputs": []
    },
    {
      "cell_type": "code",
      "metadata": {
        "id": "KyGFUiHDDf5g",
        "colab_type": "code",
        "colab": {
          "base_uri": "https://localhost:8080/",
          "height": 68
        },
        "outputId": "725f0079-5d85-42bf-f302-d284a3d1cc36"
      },
      "source": [
        "from google.cloud import bigquery\n",
        "\n",
        "# https://cloud.google.com/resource-manager/docs/creating-managing-projects\n",
        "project_id = 'capstone-247602'\n",
        "client = bigquery.Client(project=project_id)\n",
        "\n",
        "for dataset in client.list_datasets():\n",
        "  print(dataset.dataset_id)"
      ],
      "execution_count": 4,
      "outputs": [
        {
          "output_type": "stream",
          "text": [
            "Digital_Data\n",
            "Nielsen_Data\n",
            "combined_digital_linear\n"
          ],
          "name": "stdout"
        }
      ]
    },
    {
      "cell_type": "code",
      "metadata": {
        "id": "E-UboPKpESPg",
        "colab_type": "code",
        "colab": {}
      },
      "source": [
        "from google.colab import auth\n",
        "auth.authenticate_user()"
      ],
      "execution_count": 0,
      "outputs": []
    },
    {
      "cell_type": "code",
      "metadata": {
        "id": "PZh_NsHrESPG",
        "colab_type": "code",
        "colab": {
          "base_uri": "https://localhost:8080/",
          "height": 122
        },
        "outputId": "4b1337a6-31f6-4c28-f687-775cb03b3760"
      },
      "source": [
        "import pandas as pd\n",
        "\n",
        "# https://cloud.google.com/resource-manager/docs/creating-managing-projects\n",
        "project_id = 'capstone-247602'\n",
        "df = pd.io.gbq.read_gbq('''\n",
        "SELECT * FROM [capstone-247602.combined_digital_linear.tbl_FINAL_with_Percents]''', \n",
        "project_id=project_id, verbose=False)\n",
        "\n"
      ],
      "execution_count": 8,
      "outputs": [
        {
          "output_type": "stream",
          "text": [
            "/usr/local/lib/python3.6/dist-packages/ipykernel_launcher.py:7: FutureWarning: The default value for dialect is changing to \"standard\" in a future version of pandas-gbq. Pass in dialect=\"legacy\" to disable this warning.\n",
            "  import sys\n",
            "/usr/local/lib/python3.6/dist-packages/pandas_gbq/gbq.py:810: FutureWarning: verbose is deprecated and will be removed in a future version. Set logging level in order to vary verbosity\n",
            "  \"verbosity\", FutureWarning, stacklevel=1)\n",
            "WARNING:google.auth._default:No project ID could be determined. Consider running `gcloud config set project` or setting the GOOGLE_CLOUD_PROJECT environment variable\n"
          ],
          "name": "stderr"
        }
      ]
    },
    {
      "cell_type": "code",
      "metadata": {
        "id": "lAMQR_TVESOe",
        "colab_type": "code",
        "colab": {
          "base_uri": "https://localhost:8080/",
          "height": 317
        },
        "outputId": "161d8ee2-c4d8-4f7d-ab58-cbafc8899192"
      },
      "source": [
        "df.describe()"
      ],
      "execution_count": 9,
      "outputs": [
        {
          "output_type": "execute_result",
          "data": {
            "text/html": [
              "<div>\n",
              "<style scoped>\n",
              "    .dataframe tbody tr th:only-of-type {\n",
              "        vertical-align: middle;\n",
              "    }\n",
              "\n",
              "    .dataframe tbody tr th {\n",
              "        vertical-align: top;\n",
              "    }\n",
              "\n",
              "    .dataframe thead th {\n",
              "        text-align: right;\n",
              "    }\n",
              "</style>\n",
              "<table border=\"1\" class=\"dataframe\">\n",
              "  <thead>\n",
              "    <tr style=\"text-align: right;\">\n",
              "      <th></th>\n",
              "      <th>ANV_ID__PRIMARY_</th>\n",
              "      <th>episode_number</th>\n",
              "      <th>season_number</th>\n",
              "      <th>asset_length</th>\n",
              "      <th>total_mins_viewed</th>\n",
              "      <th>average_mins_viewed</th>\n",
              "      <th>Season</th>\n",
              "      <th>Imps</th>\n",
              "      <th>Median_Age</th>\n",
              "      <th>Median_Income</th>\n",
              "      <th>Dur</th>\n",
              "      <th>Percent_Digital_Viewership</th>\n",
              "      <th>Percent_Linear_Viewership</th>\n",
              "    </tr>\n",
              "  </thead>\n",
              "  <tbody>\n",
              "    <tr>\n",
              "      <th>count</th>\n",
              "      <td>2.903000e+03</td>\n",
              "      <td>2903.000000</td>\n",
              "      <td>2903.000000</td>\n",
              "      <td>2903.000000</td>\n",
              "      <td>2.903000e+03</td>\n",
              "      <td>2.903000e+03</td>\n",
              "      <td>2903.000000</td>\n",
              "      <td>2.903000e+03</td>\n",
              "      <td>2903.000000</td>\n",
              "      <td>2903.000000</td>\n",
              "      <td>2903.000000</td>\n",
              "      <td>2903.000000</td>\n",
              "      <td>2903.000000</td>\n",
              "    </tr>\n",
              "    <tr>\n",
              "      <th>mean</th>\n",
              "      <td>3.291598e+06</td>\n",
              "      <td>9.581467</td>\n",
              "      <td>24.208405</td>\n",
              "      <td>45.227337</td>\n",
              "      <td>4.131754e+07</td>\n",
              "      <td>9.392453e+05</td>\n",
              "      <td>2015.600413</td>\n",
              "      <td>7.741936e+06</td>\n",
              "      <td>55.194971</td>\n",
              "      <td>63466.138477</td>\n",
              "      <td>63.551843</td>\n",
              "      <td>0.104767</td>\n",
              "      <td>0.895233</td>\n",
              "    </tr>\n",
              "    <tr>\n",
              "      <th>std</th>\n",
              "      <td>4.229660e+05</td>\n",
              "      <td>20.781397</td>\n",
              "      <td>196.816037</td>\n",
              "      <td>19.158553</td>\n",
              "      <td>3.847619e+07</td>\n",
              "      <td>8.279791e+05</td>\n",
              "      <td>1.633184</td>\n",
              "      <td>3.726267e+06</td>\n",
              "      <td>3.842687</td>\n",
              "      <td>6822.968199</td>\n",
              "      <td>27.420896</td>\n",
              "      <td>0.067756</td>\n",
              "      <td>0.067756</td>\n",
              "    </tr>\n",
              "    <tr>\n",
              "      <th>min</th>\n",
              "      <td>2.705438e+06</td>\n",
              "      <td>0.000000</td>\n",
              "      <td>1.000000</td>\n",
              "      <td>20.480000</td>\n",
              "      <td>7.375452e+04</td>\n",
              "      <td>1.730514e+03</td>\n",
              "      <td>2013.000000</td>\n",
              "      <td>1.066531e+06</td>\n",
              "      <td>39.000000</td>\n",
              "      <td>44300.000000</td>\n",
              "      <td>19.000000</td>\n",
              "      <td>0.000512</td>\n",
              "      <td>0.538907</td>\n",
              "    </tr>\n",
              "    <tr>\n",
              "      <th>25%</th>\n",
              "      <td>2.862992e+06</td>\n",
              "      <td>4.000000</td>\n",
              "      <td>1.000000</td>\n",
              "      <td>41.960000</td>\n",
              "      <td>1.407234e+07</td>\n",
              "      <td>3.858304e+05</td>\n",
              "      <td>2014.000000</td>\n",
              "      <td>4.692886e+06</td>\n",
              "      <td>53.000000</td>\n",
              "      <td>58900.000000</td>\n",
              "      <td>59.000000</td>\n",
              "      <td>0.057912</td>\n",
              "      <td>0.863689</td>\n",
              "    </tr>\n",
              "    <tr>\n",
              "      <th>50%</th>\n",
              "      <td>3.415890e+06</td>\n",
              "      <td>8.000000</td>\n",
              "      <td>2.000000</td>\n",
              "      <td>42.830000</td>\n",
              "      <td>3.344653e+07</td>\n",
              "      <td>7.779914e+05</td>\n",
              "      <td>2016.000000</td>\n",
              "      <td>6.978012e+06</td>\n",
              "      <td>56.000000</td>\n",
              "      <td>63100.000000</td>\n",
              "      <td>60.000000</td>\n",
              "      <td>0.095883</td>\n",
              "      <td>0.904117</td>\n",
              "    </tr>\n",
              "    <tr>\n",
              "      <th>75%</th>\n",
              "      <td>3.680948e+06</td>\n",
              "      <td>13.000000</td>\n",
              "      <td>6.000000</td>\n",
              "      <td>43.250000</td>\n",
              "      <td>5.333100e+07</td>\n",
              "      <td>1.239763e+06</td>\n",
              "      <td>2017.000000</td>\n",
              "      <td>1.057163e+07</td>\n",
              "      <td>58.000000</td>\n",
              "      <td>67600.000000</td>\n",
              "      <td>60.000000</td>\n",
              "      <td>0.136311</td>\n",
              "      <td>0.942088</td>\n",
              "    </tr>\n",
              "    <tr>\n",
              "      <th>max</th>\n",
              "      <td>3.987440e+06</td>\n",
              "      <td>999.000000</td>\n",
              "      <td>2019.000000</td>\n",
              "      <td>144.950000</td>\n",
              "      <td>2.709278e+08</td>\n",
              "      <td>5.868049e+06</td>\n",
              "      <td>2018.000000</td>\n",
              "      <td>3.211383e+07</td>\n",
              "      <td>64.000000</td>\n",
              "      <td>87100.000000</td>\n",
              "      <td>192.000000</td>\n",
              "      <td>0.461093</td>\n",
              "      <td>0.999488</td>\n",
              "    </tr>\n",
              "  </tbody>\n",
              "</table>\n",
              "</div>"
            ],
            "text/plain": [
              "       ANV_ID__PRIMARY_  ...  Percent_Linear_Viewership\n",
              "count      2.903000e+03  ...                2903.000000\n",
              "mean       3.291598e+06  ...                   0.895233\n",
              "std        4.229660e+05  ...                   0.067756\n",
              "min        2.705438e+06  ...                   0.538907\n",
              "25%        2.862992e+06  ...                   0.863689\n",
              "50%        3.415890e+06  ...                   0.904117\n",
              "75%        3.680948e+06  ...                   0.942088\n",
              "max        3.987440e+06  ...                   0.999488\n",
              "\n",
              "[8 rows x 13 columns]"
            ]
          },
          "metadata": {
            "tags": []
          },
          "execution_count": 9
        }
      ]
    }
  ]
}